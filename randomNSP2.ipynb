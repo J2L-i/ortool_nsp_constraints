{
 "cells": [
  {
   "cell_type": "markdown",
   "metadata": {},
   "source": [
    "Import the required library:"
   ]
  },
  {
   "cell_type": "code",
   "execution_count": 2,
   "metadata": {},
   "outputs": [
    {
     "name": "stdout",
     "output_type": "stream",
     "text": [
      "Requirement already satisfied: pip in /Users/jenbot_1/anaconda3/lib/python3.11/site-packages (24.0)\n",
      "Note: you may need to restart the kernel to use updated packages.\n"
     ]
    }
   ],
   "source": [
    "pip install --upgrade pip"
   ]
  },
  {
   "cell_type": "markdown",
   "metadata": {},
   "source": [
    "### __Create a nurse scheduling problem and solve it__"
   ]
  },
  {
   "cell_type": "markdown",
   "metadata": {},
   "source": [
    "#### 1. Import the libraries"
   ]
  },
  {
   "cell_type": "code",
   "execution_count": 33,
   "metadata": {},
   "outputs": [],
   "source": [
    "from ortools.sat.python import cp_model"
   ]
  },
  {
   "cell_type": "markdown",
   "metadata": {},
   "source": [
    "#### 2. Data"
   ]
  },
  {
   "cell_type": "markdown",
   "metadata": {},
   "source": [
    "Create the data for the example:"
   ]
  },
  {
   "cell_type": "code",
   "execution_count": 34,
   "metadata": {},
   "outputs": [],
   "source": [
    "num_nurses = 10        #number of nurses - 10\n",
    "num_shifts = 3        #number of shifts - 3\n",
    "num_days = 7          #number of days  - 7\n",
    "all_nurses = range(num_nurses)    #sequence of number of nurses (0, 1, 2, 3, 4, 5, 6, 7, 8 e 9)\n",
    "all_shifts = range(num_shifts)    #sequence of number of shifts (0, 1 e 2)\n",
    "all_days = range(num_days)        #sequence of number of days (0, 1, 2, 3, 4, 5 e 6)"
   ]
  },
  {
   "cell_type": "code",
   "execution_count": 35,
   "metadata": {},
   "outputs": [],
   "source": [
    "shift_requests = [[[0, 1, 0], [0, 0, 0], [0, 0, 0], [0, 0, 0], [0, 0, 0],\n",
    "                   [0, 0, 0], [0, 0, 0]],\n",
    "                  [[0, 0, 0], [0, 0, 0], [0, 0, 0], [0, 0, 0], [0, 1, 0],\n",
    "                   [0, 0, 0], [0, 1, 0]],\n",
    "                  [[0, 0, 0], [0, 0, 0], [0, 0, 0], [0, 1, 0], [0, 1, 0],\n",
    "                   [0, 0, 0], [0, 0, 0]],\n",
    "                  [[0, 0, 0], [0, 0, 0], [0, 0, 0], [0, 0, 0], [0, 0, 0],\n",
    "                   [0, 0, 0], [0, 0, 0]],\n",
    "                  [[0, 0, 0], [0, 1, 0], [0, 1, 0], [0, 0, 0], [0, 0, 0],\n",
    "                   [0, 0, 0], [0, 0, 0]],\n",
    "                  [[0, 0, 0], [0, 1, 0], [0, 0, 0], [0, 0, 0], [0, 0, 0],\n",
    "                   [0, 0, 0], [0, 0, 0]],\n",
    "                  [[0, 0, 0], [0, 1, 0], [0, 0, 0], [0, 1, 0], [0, 0, 0],\n",
    "                   [0, 0, 0], [0, 0, 0]],\n",
    "                  [[0, 0, 0], [0, 1, 0], [0, 1, 0], [0, 0, 0], [0, 0, 0],\n",
    "                   [0, 0, 0], [0, 1, 0]],\n",
    "                  [[0, 0, 0], [0, 0, 0], [0, 0, 0], [0, 0, 0], [0, 0, 0],\n",
    "                   [0, 0, 0], [0, 0, 0]],\n",
    "                  [[1, 0, 0], [0, 0, 0], [0, 0, 0], [0, 0, 0], [0, 1, 0],\n",
    "                   [0, 0, 0], [0, 0, 0]]]"
   ]
  },
  {
   "cell_type": "markdown",
   "metadata": {},
   "source": [
    "#### 3. Create the model"
   ]
  },
  {
   "cell_type": "markdown",
   "metadata": {},
   "source": [
    "Create the model:"
   ]
  },
  {
   "cell_type": "code",
   "execution_count": 36,
   "metadata": {},
   "outputs": [],
   "source": [
    "model = cp_model.CpModel()"
   ]
  },
  {
   "cell_type": "markdown",
   "metadata": {},
   "source": [
    "#### 4. Create the variables"
   ]
  },
  {
   "cell_type": "markdown",
   "metadata": {},
   "source": [
    "Creates an array of variables:\n",
    "\n",
    "This array aims to assign shifts to nurses such as:\n",
    "- shifts [(n, d, s)] equals 1 if shift \"s\" is assigned to nurse \"n\" on day \"d\", and 0 otherwise."
   ]
  },
  {
   "cell_type": "code",
   "execution_count": 37,
   "metadata": {},
   "outputs": [],
   "source": [
    "#create boolean variables 'shifts' for each combination of nurse, day and shift\n",
    "shifts = {}                     #empty dictionary\n",
    "for n in all_nurses:            #3 nested 'for' loops create the boolean variables and add them to the dictionary\n",
    "    for d in all_days:\n",
    "        for s in all_shifts:\n",
    "            shifts[(n, d, s)] = model.NewBoolVar('shift_n%id%is%i' % (n, d, s))"
   ]
  },
  {
   "cell_type": "markdown",
   "metadata": {},
   "source": [
    "#### 5. Assign nurses to shifts"
   ]
  },
  {
   "cell_type": "markdown",
   "metadata": {},
   "source": [
    "Show how to assign nurses to shifts subject to constraints, such as: \n",
    "- Max Seq \n",
    "- Min Seq\n",
    "- each shift is assigned to two nurses per day - Condition 1;\n",
    "- each nurse works at most one shift per day - Condition 2;\n",
    "- the nurse who works the last shift on one day does not work the morning shift on the next day - Condition 3;-MinRestTime\n",
    "- the nurse who works the last two consecutive shifts does not work any shift on the next day (no shift) - MaxSeq Condition 4;\n",
    "- the nurse who works on the last two days (days 5 and 6) have a maximum of 2 shifts on previous days - Condition 5.\n"
   ]
  },
  {
   "cell_type": "markdown",
   "metadata": {},
   "source": [
    "Create the first Condition 1:"
   ]
  },
  {
   "cell_type": "code",
   "execution_count": 38,
   "metadata": {},
   "outputs": [],
   "source": [
    "for d in all_days:\n",
    "    for s in all_shifts:\n",
    "        model.Add(sum(shifts[(n, d, s)] for n in all_nurses) == 2)\n",
    " #add a constraint that ensures exactly two nurses are assigned to each shift on each day"
   ]
  },
  {
   "cell_type": "markdown",
   "metadata": {},
   "source": [
    "Create the second Condition 2:"
   ]
  },
  {
   "cell_type": "code",
   "execution_count": 39,
   "metadata": {},
   "outputs": [],
   "source": [
    "for n in all_nurses:\n",
    "    for d in all_days:\n",
    "        model.AddAtMostOne(shifts[(n, d, s)] for s in all_shifts)\n",
    "        #add a constraint that ensures that each nurse is assigned to at most one shift on each day\n",
    "\n",
    "#for each nurse, the sum of shifts assigned to that nurse is at most 1 (\"at most\" because a nurse might have the day off)"
   ]
  },
  {
   "cell_type": "markdown",
   "metadata": {},
   "source": [
    "Create the third Condition 3:"
   ]
  },
  {
   "cell_type": "code",
   "execution_count": 40,
   "metadata": {},
   "outputs": [],
   "source": [
    "for n in all_nurses:\n",
    "    for d in range(num_days - 1):\n",
    "        last_shift_of_day = shifts[(n, d, num_shifts - 1)]\n",
    "        first_shift_of_next_day = shifts[(n, d+1, 0)]\n",
    "        model.Add(last_shift_of_day.Not() + first_shift_of_next_day.Not() >= 1)\n",
    "#the nurse who works the last shift on one day does not work the morning shift on the next day"
   ]
  },
  {
   "cell_type": "markdown",
   "metadata": {},
   "source": [
    "Create the fourth Condition 4:"
   ]
  },
  {
   "cell_type": "code",
   "execution_count": 41,
   "metadata": {},
   "outputs": [],
   "source": [
    "for n in all_nurses:\n",
    "    for d in range(num_days - 2):\n",
    "        last_shift_of_day_0 = shifts[(n, d, num_shifts - 1)]\n",
    "        last_shift_of_day_1 = shifts[(n, d+1, num_shifts - 1)]\n",
    "        any_shift_of_day_2 = sum(shifts[(n, d+2, s)] for s in range(num_shifts))\n",
    "        model.Add(last_shift_of_day_0 + last_shift_of_day_1 + any_shift_of_day_2 <= 2)\n",
    "#the nurse who works the last two consecutive shifts does not work any shift on the next day (no shift)"
   ]
  },
  {
   "cell_type": "markdown",
   "metadata": {},
   "source": [
    "Create the fifth Condition 5:"
   ]
  },
  {
   "cell_type": "code",
   "execution_count": 42,
   "metadata": {},
   "outputs": [],
   "source": [
    "nurses_last_two_days = {}\n",
    "\n",
    "for n in all_nurses:\n",
    "    nurses_last_two_days[n] = model.NewBoolVar(f\"{n}_last_two_days\")\n",
    "    model.Add(shifts[(n, num_days - 1, s)] == 1).OnlyEnforceIf(nurses_last_two_days[n])\n",
    "    model.Add(shifts[(n, num_days - 2, s)] == 1).OnlyEnforceIf(nurses_last_two_days[n])\n",
    "\n",
    "for n in all_nurses:\n",
    "    for d in range(num_days - 2):\n",
    "        model.Add(sum(shifts[(n, d, s)] for s in all_shifts) <= 2).OnlyEnforceIf(nurses_last_two_days[n])\n",
    "\n",
    "#add a constraint that ensures that nurses working on the last two days (days 5 and 6) should have a maximum of 2 shifts on previous days"
   ]
  },
  {
   "cell_type": "markdown",
   "metadata": {},
   "source": [
    "#### 6. Assign shifts evenly"
   ]
  },
  {
   "cell_type": "markdown",
   "metadata": {},
   "source": [
    "Show how to define assignments for shifts to nurses as evenly as possible. During the seven-day period there are twenty-one shifts, so it is possible to assign four shifts to each of the ten nurses. In this way, there will be two shifts left over, which can be assigned to any nurse.  "
   ]
  },
  {
   "cell_type": "code",
   "execution_count": 43,
   "metadata": {},
   "outputs": [],
   "source": [
    "min_shifts_per_nurse = ((num_shifts * num_days) * 2) // num_nurses   #minimum number of shifts that each nurse should be assigned based on the total number of shifts, days, and nurses\n",
    "#shifts to each nurse, but some shifts may be left over. (Here // is the Python integer division operator, which returns the floor of the usual quotient)\n",
    "#if the total number of shifts and days is not evenly divisible by the number of nurses, then some nurses will be assigned one more shift than others\n",
    "\n",
    "if ((num_shifts * num_days) * 2) % num_nurses == 0:\n",
    "    max_shifts_per_nurse = min_shifts_per_nurse\n",
    "else:\n",
    "    max_shifts_per_nurse = min_shifts_per_nurse + 1\n",
    "\n",
    "#assign at least four shifts to each nurse\n",
    "for n in all_nurses:\n",
    "    model.Add(sum(shifts[(n, d, s)] for d in all_days for s in all_shifts) >= min_shifts_per_nurse)\n",
    "    model.Add(sum(shifts[(n, d, s)] for d in all_days for s in all_shifts) <= max_shifts_per_nurse)"
   ]
  },
  {
   "cell_type": "markdown",
   "metadata": {},
   "source": [
    "#### 7. Objective for the problem"
   ]
  },
  {
   "cell_type": "markdown",
   "metadata": {},
   "source": [
    "Serves for optimize the following objective function:\n",
    "- Since shift_requests[n][d][s] * shifts[(n, d, s) is 1 if shift s is assigned to nurse n on day d and that nurse requested that shift (and 0 otherwise), the objective is the number shift of assignments that meet a request."
   ]
  },
  {
   "cell_type": "code",
   "execution_count": 44,
   "metadata": {},
   "outputs": [],
   "source": [
    "model.Maximize(\n",
    "    sum(shift_requests[n][d][s] * shifts[(n, d, s)] for n in all_nurses\n",
    "        for d in all_days for s in all_shifts))"
   ]
  },
  {
   "cell_type": "markdown",
   "metadata": {},
   "source": [
    "#### 8. Invoke the solver"
   ]
  },
  {
   "cell_type": "markdown",
   "metadata": {},
   "source": [
    "Call the solver:"
   ]
  },
  {
   "cell_type": "code",
   "execution_count": 45,
   "metadata": {},
   "outputs": [],
   "source": [
    "solver = cp_model.CpSolver()\n",
    "status = solver.Solve(model)"
   ]
  },
  {
   "cell_type": "markdown",
   "metadata": {},
   "source": [
    "#### 9. Display the results"
   ]
  },
  {
   "cell_type": "markdown",
   "metadata": {},
   "source": [
    "Displays the following output, which contains an optimal schedule. The output shows which shift assignments were requested and the number of requests that were met:"
   ]
  },
  {
   "cell_type": "code",
   "execution_count": 46,
   "metadata": {},
   "outputs": [
    {
     "name": "stdout",
     "output_type": "stream",
     "text": [
      "Solution:\n",
      "Day 0\n",
      "Nurse 0 works shift 1 (requested).\n",
      "Nurse 2 works shift 2 (not requested).\n",
      "Nurse 5 works shift 2 (not requested).\n",
      "Nurse 6 works shift 0 (not requested).\n",
      "Nurse 8 works shift 1 (not requested).\n",
      "Nurse 9 works shift 0 (requested).\n",
      "\n",
      "Day 1\n",
      "Nurse 1 works shift 0 (not requested).\n",
      "Nurse 5 works shift 2 (not requested).\n",
      "Nurse 6 works shift 1 (requested).\n",
      "Nurse 7 works shift 1 (requested).\n",
      "Nurse 8 works shift 0 (not requested).\n",
      "Nurse 9 works shift 2 (not requested).\n",
      "\n",
      "Day 2\n",
      "Nurse 1 works shift 2 (not requested).\n",
      "Nurse 3 works shift 2 (not requested).\n",
      "Nurse 4 works shift 1 (requested).\n",
      "Nurse 6 works shift 0 (not requested).\n",
      "Nurse 7 works shift 1 (requested).\n",
      "Nurse 8 works shift 0 (not requested).\n",
      "\n",
      "Day 3\n",
      "Nurse 2 works shift 1 (requested).\n",
      "Nurse 5 works shift 0 (not requested).\n",
      "Nurse 6 works shift 1 (requested).\n",
      "Nurse 7 works shift 2 (not requested).\n",
      "Nurse 8 works shift 0 (not requested).\n",
      "Nurse 9 works shift 2 (not requested).\n",
      "\n",
      "Day 4\n",
      "Nurse 0 works shift 0 (not requested).\n",
      "Nurse 1 works shift 1 (requested).\n",
      "Nurse 3 works shift 2 (not requested).\n",
      "Nurse 4 works shift 2 (not requested).\n",
      "Nurse 5 works shift 0 (not requested).\n",
      "Nurse 9 works shift 1 (requested).\n",
      "\n",
      "Day 5\n",
      "Nurse 0 works shift 0 (not requested).\n",
      "Nurse 1 works shift 2 (not requested).\n",
      "Nurse 2 works shift 0 (not requested).\n",
      "Nurse 3 works shift 1 (not requested).\n",
      "Nurse 4 works shift 1 (not requested).\n",
      "Nurse 7 works shift 2 (not requested).\n",
      "\n",
      "Day 6\n",
      "Nurse 0 works shift 2 (not requested).\n",
      "Nurse 1 works shift 1 (requested).\n",
      "Nurse 2 works shift 0 (not requested).\n",
      "Nurse 3 works shift 2 (not requested).\n",
      "Nurse 4 works shift 0 (not requested).\n",
      "Nurse 7 works shift 1 (requested).\n",
      "\n",
      "Number of shift requests met = 12.0 (out of 40)\n"
     ]
    }
   ],
   "source": [
    "if status == cp_model.OPTIMAL:\n",
    "    print('Solution:')\n",
    "    for d in all_days:\n",
    "        print('Day', d)\n",
    "        for n in all_nurses:\n",
    "            for s in all_shifts:\n",
    "                if solver.Value(shifts[(n, d, s)]) == 1:\n",
    "                    if shift_requests[n][d][s] == 1:\n",
    "                        print('Nurse', n, 'works shift', s, '(requested).')\n",
    "                    else:\n",
    "                        print('Nurse', n, 'works shift', s, '(not requested).')\n",
    "        print()\n",
    "    print(f'Number of shift requests met = {solver.ObjectiveValue()}', f'(out of {num_nurses * min_shifts_per_nurse})')\n",
    "else:\n",
    "    print('No optimal solution found!')\n"
   ]
  },
  {
   "cell_type": "markdown",
   "metadata": {},
   "source": [
    "#### 10. Statistics"
   ]
  },
  {
   "cell_type": "code",
   "execution_count": 32,
   "metadata": {},
   "outputs": [
    {
     "name": "stdout",
     "output_type": "stream",
     "text": [
      "Solution:\n",
      "Day 0\n",
      "Nurse 0 works shift 0 (not requested).\n",
      "Nurse 0 works shift 1 (not requested).\n",
      "Nurse 0 works shift 2 (not requested).\n",
      "Nurse 1 works shift 0 (not requested).\n",
      "Nurse 1 works shift 1 (not requested).\n",
      "Nurse 1 works shift 2 (not requested).\n",
      "Nurse 2 works shift 0 (not requested).\n",
      "Nurse 2 works shift 1 (not requested).\n",
      "Nurse 2 works shift 2 (not requested).\n",
      "Nurse 3 works shift 0 (not requested).\n",
      "Nurse 3 works shift 1 (not requested).\n",
      "Nurse 3 works shift 2 (not requested).\n",
      "Nurse 4 works shift 0 (not requested).\n",
      "Nurse 4 works shift 1 (not requested).\n",
      "Nurse 4 works shift 2 (not requested).\n",
      "Nurse 5 works shift 0 (not requested).\n",
      "Nurse 5 works shift 1 (not requested).\n",
      "Nurse 5 works shift 2 (not requested).\n",
      "Nurse 6 works shift 0 (not requested).\n",
      "Nurse 6 works shift 1 (not requested).\n",
      "Nurse 6 works shift 2 (not requested).\n",
      "Nurse 7 works shift 0 (not requested).\n",
      "Nurse 7 works shift 1 (not requested).\n",
      "Nurse 7 works shift 2 (not requested).\n",
      "Nurse 8 works shift 0 (not requested).\n",
      "Nurse 8 works shift 1 (not requested).\n",
      "Nurse 8 works shift 2 (not requested).\n",
      "Nurse 9 works shift 0 (requested).\n",
      "Nurse 9 works shift 1 (not requested).\n",
      "Nurse 9 works shift 2 (not requested).\n",
      "\n",
      "Day 1\n",
      "Nurse 0 works shift 0 (not requested).\n",
      "Nurse 0 works shift 1 (not requested).\n",
      "Nurse 0 works shift 2 (not requested).\n",
      "Nurse 1 works shift 0 (not requested).\n",
      "Nurse 1 works shift 1 (not requested).\n",
      "Nurse 1 works shift 2 (not requested).\n",
      "Nurse 2 works shift 0 (not requested).\n",
      "Nurse 2 works shift 1 (not requested).\n",
      "Nurse 2 works shift 2 (not requested).\n",
      "Nurse 3 works shift 0 (not requested).\n",
      "Nurse 3 works shift 1 (not requested).\n",
      "Nurse 3 works shift 2 (not requested).\n",
      "Nurse 4 works shift 0 (not requested).\n",
      "Nurse 4 works shift 1 (not requested).\n",
      "Nurse 4 works shift 2 (not requested).\n",
      "Nurse 5 works shift 0 (not requested).\n",
      "Nurse 5 works shift 1 (not requested).\n",
      "Nurse 5 works shift 2 (not requested).\n",
      "Nurse 6 works shift 0 (not requested).\n",
      "Nurse 6 works shift 1 (not requested).\n",
      "Nurse 6 works shift 2 (not requested).\n",
      "Nurse 7 works shift 0 (not requested).\n",
      "Nurse 7 works shift 1 (not requested).\n",
      "Nurse 7 works shift 2 (not requested).\n",
      "Nurse 8 works shift 0 (not requested).\n",
      "Nurse 8 works shift 1 (not requested).\n",
      "Nurse 8 works shift 2 (not requested).\n",
      "Nurse 9 works shift 0 (not requested).\n",
      "Nurse 9 works shift 1 (not requested).\n",
      "Nurse 9 works shift 2 (not requested).\n",
      "\n",
      "Day 2\n",
      "Nurse 0 works shift 0 (not requested).\n",
      "Nurse 0 works shift 1 (not requested).\n",
      "Nurse 0 works shift 2 (not requested).\n",
      "Nurse 1 works shift 0 (not requested).\n",
      "Nurse 1 works shift 1 (not requested).\n",
      "Nurse 1 works shift 2 (not requested).\n",
      "Nurse 2 works shift 0 (not requested).\n",
      "Nurse 2 works shift 1 (not requested).\n",
      "Nurse 2 works shift 2 (not requested).\n",
      "Nurse 3 works shift 0 (not requested).\n",
      "Nurse 3 works shift 1 (not requested).\n",
      "Nurse 3 works shift 2 (not requested).\n",
      "Nurse 4 works shift 0 (not requested).\n",
      "Nurse 4 works shift 1 (not requested).\n",
      "Nurse 4 works shift 2 (not requested).\n",
      "Nurse 5 works shift 0 (not requested).\n",
      "Nurse 5 works shift 1 (not requested).\n",
      "Nurse 5 works shift 2 (not requested).\n",
      "Nurse 6 works shift 0 (not requested).\n",
      "Nurse 6 works shift 1 (not requested).\n",
      "Nurse 6 works shift 2 (not requested).\n",
      "Nurse 7 works shift 0 (not requested).\n",
      "Nurse 7 works shift 1 (not requested).\n",
      "Nurse 7 works shift 2 (not requested).\n",
      "Nurse 8 works shift 0 (not requested).\n",
      "Nurse 8 works shift 1 (not requested).\n",
      "Nurse 8 works shift 2 (not requested).\n",
      "Nurse 9 works shift 0 (not requested).\n",
      "Nurse 9 works shift 1 (not requested).\n",
      "Nurse 9 works shift 2 (not requested).\n",
      "\n",
      "Day 3\n",
      "Nurse 0 works shift 0 (not requested).\n",
      "Nurse 0 works shift 1 (not requested).\n",
      "Nurse 0 works shift 2 (not requested).\n",
      "Nurse 1 works shift 0 (not requested).\n",
      "Nurse 1 works shift 1 (not requested).\n",
      "Nurse 1 works shift 2 (not requested).\n",
      "Nurse 2 works shift 0 (not requested).\n",
      "Nurse 2 works shift 1 (not requested).\n",
      "Nurse 2 works shift 2 (not requested).\n",
      "Nurse 3 works shift 0 (not requested).\n",
      "Nurse 3 works shift 1 (not requested).\n",
      "Nurse 3 works shift 2 (not requested).\n",
      "Nurse 4 works shift 0 (not requested).\n",
      "Nurse 4 works shift 1 (not requested).\n",
      "Nurse 4 works shift 2 (not requested).\n",
      "Nurse 5 works shift 0 (not requested).\n",
      "Nurse 5 works shift 1 (not requested).\n",
      "Nurse 5 works shift 2 (not requested).\n",
      "Nurse 6 works shift 0 (not requested).\n",
      "Nurse 6 works shift 1 (not requested).\n",
      "Nurse 6 works shift 2 (not requested).\n",
      "Nurse 7 works shift 0 (not requested).\n",
      "Nurse 7 works shift 1 (not requested).\n",
      "Nurse 7 works shift 2 (not requested).\n",
      "Nurse 8 works shift 0 (not requested).\n",
      "Nurse 8 works shift 1 (not requested).\n",
      "Nurse 8 works shift 2 (not requested).\n",
      "Nurse 9 works shift 0 (not requested).\n",
      "Nurse 9 works shift 1 (not requested).\n",
      "Nurse 9 works shift 2 (not requested).\n",
      "\n",
      "Day 4\n",
      "Nurse 0 works shift 0 (not requested).\n",
      "Nurse 0 works shift 1 (not requested).\n",
      "Nurse 0 works shift 2 (not requested).\n",
      "Nurse 1 works shift 0 (not requested).\n",
      "Nurse 1 works shift 1 (requested).\n",
      "Nurse 1 works shift 2 (not requested).\n",
      "Nurse 2 works shift 0 (not requested).\n",
      "Nurse 2 works shift 1 (not requested).\n",
      "Nurse 2 works shift 2 (not requested).\n",
      "Nurse 3 works shift 0 (not requested).\n",
      "Nurse 3 works shift 1 (not requested).\n",
      "Nurse 3 works shift 2 (not requested).\n",
      "Nurse 4 works shift 0 (not requested).\n",
      "Nurse 4 works shift 1 (not requested).\n",
      "Nurse 4 works shift 2 (not requested).\n",
      "Nurse 5 works shift 0 (not requested).\n",
      "Nurse 5 works shift 1 (not requested).\n",
      "Nurse 5 works shift 2 (not requested).\n",
      "Nurse 6 works shift 0 (not requested).\n",
      "Nurse 6 works shift 1 (not requested).\n",
      "Nurse 6 works shift 2 (not requested).\n",
      "Nurse 7 works shift 0 (not requested).\n",
      "Nurse 7 works shift 1 (not requested).\n",
      "Nurse 7 works shift 2 (not requested).\n",
      "Nurse 8 works shift 0 (not requested).\n",
      "Nurse 8 works shift 1 (not requested).\n",
      "Nurse 8 works shift 2 (not requested).\n",
      "Nurse 9 works shift 0 (not requested).\n",
      "Nurse 9 works shift 1 (not requested).\n",
      "Nurse 9 works shift 2 (not requested).\n",
      "\n",
      "Day 5\n",
      "Nurse 0 works shift 0 (not requested).\n",
      "Nurse 0 works shift 1 (not requested).\n",
      "Nurse 0 works shift 2 (not requested).\n",
      "Nurse 1 works shift 0 (not requested).\n",
      "Nurse 1 works shift 1 (not requested).\n",
      "Nurse 1 works shift 2 (not requested).\n",
      "Nurse 2 works shift 0 (not requested).\n",
      "Nurse 2 works shift 1 (not requested).\n",
      "Nurse 2 works shift 2 (not requested).\n",
      "Nurse 3 works shift 0 (not requested).\n",
      "Nurse 3 works shift 1 (not requested).\n",
      "Nurse 3 works shift 2 (not requested).\n",
      "Nurse 4 works shift 0 (not requested).\n",
      "Nurse 4 works shift 1 (not requested).\n",
      "Nurse 4 works shift 2 (not requested).\n",
      "Nurse 5 works shift 0 (not requested).\n",
      "Nurse 5 works shift 1 (not requested).\n",
      "Nurse 5 works shift 2 (not requested).\n",
      "Nurse 6 works shift 0 (not requested).\n",
      "Nurse 6 works shift 1 (not requested).\n",
      "Nurse 6 works shift 2 (not requested).\n",
      "Nurse 7 works shift 0 (not requested).\n",
      "Nurse 7 works shift 1 (not requested).\n",
      "Nurse 7 works shift 2 (not requested).\n",
      "Nurse 8 works shift 0 (not requested).\n",
      "Nurse 8 works shift 1 (not requested).\n",
      "Nurse 8 works shift 2 (not requested).\n",
      "Nurse 9 works shift 0 (not requested).\n",
      "Nurse 9 works shift 1 (not requested).\n",
      "Nurse 9 works shift 2 (not requested).\n",
      "\n",
      "Day 6\n",
      "Nurse 0 works shift 0 (not requested).\n",
      "Nurse 0 works shift 1 (not requested).\n",
      "Nurse 0 works shift 2 (not requested).\n",
      "Nurse 1 works shift 0 (not requested).\n",
      "Nurse 1 works shift 1 (not requested).\n",
      "Nurse 1 works shift 2 (not requested).\n",
      "Nurse 2 works shift 0 (not requested).\n",
      "Nurse 2 works shift 1 (not requested).\n",
      "Nurse 2 works shift 2 (not requested).\n",
      "Nurse 3 works shift 0 (not requested).\n",
      "Nurse 3 works shift 1 (not requested).\n",
      "Nurse 3 works shift 2 (not requested).\n",
      "Nurse 4 works shift 0 (not requested).\n",
      "Nurse 4 works shift 1 (not requested).\n",
      "Nurse 4 works shift 2 (not requested).\n",
      "Nurse 5 works shift 0 (not requested).\n",
      "Nurse 5 works shift 1 (not requested).\n",
      "Nurse 5 works shift 2 (not requested).\n",
      "Nurse 6 works shift 0 (not requested).\n",
      "Nurse 6 works shift 1 (not requested).\n",
      "Nurse 6 works shift 2 (not requested).\n",
      "Nurse 7 works shift 0 (not requested).\n",
      "Nurse 7 works shift 1 (not requested).\n",
      "Nurse 7 works shift 2 (not requested).\n",
      "Nurse 8 works shift 0 (not requested).\n",
      "Nurse 8 works shift 1 (not requested).\n",
      "Nurse 8 works shift 2 (not requested).\n",
      "Nurse 9 works shift 0 (not requested).\n",
      "Nurse 9 works shift 1 (not requested).\n",
      "Nurse 9 works shift 2 (not requested).\n",
      "\n",
      "Number of shift requests met = 2.0 (out of 40)\n"
     ]
    }
   ],
   "source": [
    "from ortools.sat.python import cp_model\n",
    "\n",
    "def main():\n",
    "    # Create a CP-SAT model.\n",
    "    model = cp_model.CpModel()\n",
    "\n",
    "    # Define the number of nurses, shifts, and days\n",
    "    num_nurses = 10\n",
    "    num_shifts = 3\n",
    "    num_days = 7\n",
    "\n",
    "    # Initialize the shifts dictionary\n",
    "    shifts = {}\n",
    "    shift_requests = [[[0, 0, 0], [0, 0, 0], [0, 0, 0], [0, 0, 0], [0, 0, 0],\n",
    "                   [0, 0, 0], [0, 0, 0]],\n",
    "                  [[0, 0, 0], [0, 0, 0], [0, 0, 0], [0, 0, 0], [0, 1, 0],\n",
    "                   [0, 0, 0], [0, 0, 0]],\n",
    "                  [[0, 0, 0], [0, 0, 0], [0, 0, 0], [0, 0, 0], [0, 0, 0],\n",
    "                   [0, 0, 0], [0, 0, 0]],\n",
    "                  [[0, 0, 0], [0, 0, 0], [0, 0, 0], [0, 0, 0], [0, 0, 0],\n",
    "                   [0, 0, 0], [0, 0, 0]],\n",
    "                  [[0, 0, 0], [0, 0, 0], [0, 0, 0], [0, 0, 0], [0, 0, 0],\n",
    "                   [0, 0, 0], [0, 0, 0]],\n",
    "                  [[0, 0, 0], [0, 0, 0], [0, 0, 0], [0, 0, 0], [0, 0, 0],\n",
    "                   [0, 0, 0], [0, 0, 0]],\n",
    "                  [[0, 0, 0], [0, 0, 0], [0, 0, 0], [0, 0, 0], [0, 0, 0],\n",
    "                   [0, 0, 0], [0, 0, 0]],\n",
    "                  [[0, 0, 0], [0, 0, 0], [0, 0, 0], [0, 0, 0], [0, 0, 0],\n",
    "                   [0, 0, 0], [0, 0, 0]],\n",
    "                  [[0, 0, 0], [0, 0, 0], [0, 0, 0], [0, 0, 0], [0, 0, 0],\n",
    "                   [0, 0, 0], [0, 0, 0]],\n",
    "                  [[1, 0, 0], [0, 0, 0], [0, 0, 0], [0, 0, 0], [0, 0, 0],\n",
    "                   [0, 0, 0], [0, 0, 0]]]\n",
    "\n",
    "    # Create boolean variables for each nurse, day, and shift combination\n",
    "    for n in range(num_nurses):\n",
    "        for d in range(num_days):\n",
    "            for s in range(num_shifts):\n",
    "                shifts[(n, d, s)] = model.NewBoolVar('shift_n%id%is%i' % (n, d, s))\n",
    "\n",
    "    # Constraints\n",
    "    \n",
    "\n",
    "    # 2. MaxSeq: Maximum number of consecutive shifts for a nurse\n",
    "    max_seq = 5  # Example: maximum consecutive shifts allowed\n",
    "    for n in range(num_nurses):\n",
    "        for d in range(num_days - max_seq + 1):\n",
    "            for s in range(num_shifts):\n",
    "                # Ensure no more than 'max_seq' consecutive shifts\n",
    "                model.Add(sum(shifts[(n, d + i, s)] for i in range(max_seq)) <= max_seq)\n",
    "                \n",
    "    # 3. MinSeq: Minimum number of consecutive shifts for a nurse\n",
    "    min_seq = 2  # Example: minimum consecutive shifts required\n",
    "    for n in all_nurses:\n",
    "        for d in range(num_days - min_seq + 1):\n",
    "            for s in all_shifts:\n",
    "                # Ensure at least 'min_seq' consecutive shifts\n",
    "                model.Add(sum(shifts[(n, d + i, s)] for i in range(min_seq)) >= min_seq)\n",
    "\n",
    "    model.Maximize(\n",
    "        sum(shift_requests[n][d][s] * shifts[(n, d, s)] for n in all_nurses\n",
    "            for d in all_days for s in all_shifts))\n",
    "\n",
    "    # Create a solver and solve the model.\n",
    "    solver = cp_model.CpSolver()\n",
    "    status = solver.Solve(model)\n",
    "\n",
    "    # Output the results.\n",
    "    if status == cp_model.OPTIMAL:\n",
    "        print('Solution:')\n",
    "        for d in range(num_days):\n",
    "            print('Day', d)\n",
    "            for n in range(num_nurses):\n",
    "                for s in range(num_shifts):\n",
    "                    if shift_requests[n][d][s] == 1:\n",
    "                        print('Nurse', n, 'works shift', s, '(requested).')\n",
    "                    else:\n",
    "                        print('Nurse', n, 'works shift', s, '(not requested).')\n",
    "            print()\n",
    "        print(f'Number of shift requests met = {solver.ObjectiveValue()}', f'(out of {num_nurses * min_shifts_per_nurse})')          \n",
    "    else:\n",
    "        print('No optimal solution found!')\n",
    "\n",
    "if __name__ == '__main__':\n",
    "    main()\n"
   ]
  },
  {
   "cell_type": "code",
   "execution_count": 30,
   "metadata": {},
   "outputs": [
    {
     "name": "stdout",
     "output_type": "stream",
     "text": [
      "No optimal solution found!\n"
     ]
    }
   ],
   "source": []
  },
  {
   "cell_type": "code",
   "execution_count": 47,
   "metadata": {},
   "outputs": [
    {
     "name": "stdout",
     "output_type": "stream",
     "text": [
      "\n",
      "Statistics\n",
      "  - conflicts: 0\n",
      "  - branches : 420\n",
      "  - wall time: 0.060094 s\n"
     ]
    }
   ],
   "source": [
    "print('\\nStatistics')\n",
    "print('  - conflicts: %i' % solver.NumConflicts())\n",
    "print('  - branches : %i' % solver.NumBranches())\n",
    "print('  - wall time: %f s' % solver.WallTime())"
   ]
  },
  {
   "cell_type": "code",
   "execution_count": null,
   "metadata": {},
   "outputs": [],
   "source": []
  }
 ],
 "metadata": {
  "kernelspec": {
   "display_name": "Python 3 (ipykernel)",
   "language": "python",
   "name": "python3"
  },
  "language_info": {
   "codemirror_mode": {
    "name": "ipython",
    "version": 3
   },
   "file_extension": ".py",
   "mimetype": "text/x-python",
   "name": "python",
   "nbconvert_exporter": "python",
   "pygments_lexer": "ipython3",
   "version": "3.11.4"
  }
 },
 "nbformat": 4,
 "nbformat_minor": 2
}
